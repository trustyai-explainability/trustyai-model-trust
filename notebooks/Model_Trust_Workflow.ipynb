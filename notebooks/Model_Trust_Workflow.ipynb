{
 "cells": [
  {
   "cell_type": "markdown",
   "id": "e6dd1de2-5ab1-4aeb-8f4c-390b28bce644",
   "metadata": {
    "tags": []
   },
   "source": [
    "### Install Model Trust Repository"
   ]
  },
  {
   "cell_type": "code",
   "execution_count": 1,
   "id": "c4fdef01-82d7-4dfa-99ab-3486b1d37b28",
   "metadata": {
    "tags": []
   },
   "outputs": [],
   "source": [
    "import os\n",
    "\n",
    "if not os.path.exists(\"trustyai-model-trust\"):\n",
    "    !git clone https://github.com/trustyai-explainability/trustyai-model-trust"
   ]
  },
  {
   "cell_type": "code",
   "execution_count": 2,
   "id": "c60d8021-33ee-4a51-b0f2-a5d362cd6d29",
   "metadata": {
    "tags": []
   },
   "outputs": [
    {
     "name": "stdout",
     "output_type": "stream",
     "text": [
      "Processing ./trustyai-model-trust\n",
      "  Preparing metadata (setup.py) ... \u001b[?25ldone\n",
      "\u001b[?25hRequirement already satisfied: numpy>=1.23.1 in /opt/app-root/lib/python3.9/site-packages (from model-trust==0.0.1) (1.24.4)\n",
      "Requirement already satisfied: pandas>=1.4.3 in /opt/app-root/lib/python3.9/site-packages (from model-trust==0.0.1) (1.5.3)\n",
      "Requirement already satisfied: lightgbm>=4.0.0 in /opt/app-root/lib/python3.9/site-packages (from model-trust==0.0.1) (4.1.0)\n",
      "Requirement already satisfied: scikit-learn==1.1.1 in /opt/app-root/lib/python3.9/site-packages (from model-trust==0.0.1) (1.1.1)\n",
      "Requirement already satisfied: torch>=2.0.1 in /opt/app-root/lib/python3.9/site-packages (from model-trust==0.0.1) (2.1.1)\n",
      "Requirement already satisfied: protobuf==3.20.2 in /opt/app-root/lib/python3.9/site-packages (from model-trust==0.0.1) (3.20.2)\n",
      "Requirement already satisfied: optuna==3.4.0 in /opt/app-root/lib/python3.9/site-packages (from model-trust==0.0.1) (3.4.0)\n",
      "Requirement already satisfied: mlprodict in /opt/app-root/lib/python3.9/site-packages (from model-trust==0.0.1) (0.9.1883)\n",
      "Requirement already satisfied: jyquickhelper in /opt/app-root/lib/python3.9/site-packages (from model-trust==0.0.1) (0.4.220)\n",
      "Requirement already satisfied: skl2onnx in /opt/app-root/lib/python3.9/site-packages (from model-trust==0.0.1) (1.15.0)\n",
      "Requirement already satisfied: onnxruntime in /opt/app-root/lib/python3.9/site-packages (from model-trust==0.0.1) (1.16.3)\n",
      "Requirement already satisfied: packaging>=20.0 in /opt/app-root/lib/python3.9/site-packages (from optuna==3.4.0->model-trust==0.0.1) (23.2)\n",
      "Requirement already satisfied: alembic>=1.5.0 in /opt/app-root/lib/python3.9/site-packages (from optuna==3.4.0->model-trust==0.0.1) (1.13.0)\n",
      "Requirement already satisfied: colorlog in /opt/app-root/lib/python3.9/site-packages (from optuna==3.4.0->model-trust==0.0.1) (6.8.0)\n",
      "Requirement already satisfied: sqlalchemy>=1.3.0 in /opt/app-root/lib/python3.9/site-packages (from optuna==3.4.0->model-trust==0.0.1) (2.0.23)\n",
      "Requirement already satisfied: tqdm in /opt/app-root/lib/python3.9/site-packages (from optuna==3.4.0->model-trust==0.0.1) (4.66.1)\n",
      "Requirement already satisfied: PyYAML in /opt/app-root/lib/python3.9/site-packages (from optuna==3.4.0->model-trust==0.0.1) (6.0.1)\n",
      "Requirement already satisfied: threadpoolctl>=2.0.0 in /opt/app-root/lib/python3.9/site-packages (from scikit-learn==1.1.1->model-trust==0.0.1) (3.2.0)\n",
      "Requirement already satisfied: joblib>=1.0.0 in /opt/app-root/lib/python3.9/site-packages (from scikit-learn==1.1.1->model-trust==0.0.1) (1.3.2)\n",
      "Requirement already satisfied: scipy>=1.3.2 in /opt/app-root/lib/python3.9/site-packages (from scikit-learn==1.1.1->model-trust==0.0.1) (1.11.3)\n",
      "Requirement already satisfied: pytz>=2020.1 in /opt/app-root/lib/python3.9/site-packages (from pandas>=1.4.3->model-trust==0.0.1) (2023.3.post1)\n",
      "Requirement already satisfied: python-dateutil>=2.8.1 in /opt/app-root/lib/python3.9/site-packages (from pandas>=1.4.3->model-trust==0.0.1) (2.8.2)\n",
      "Requirement already satisfied: nvidia-curand-cu12==10.3.2.106 in /opt/app-root/lib/python3.9/site-packages (from torch>=2.0.1->model-trust==0.0.1) (10.3.2.106)\n",
      "Requirement already satisfied: nvidia-nvtx-cu12==12.1.105 in /opt/app-root/lib/python3.9/site-packages (from torch>=2.0.1->model-trust==0.0.1) (12.1.105)\n",
      "Requirement already satisfied: jinja2 in /opt/app-root/lib/python3.9/site-packages (from torch>=2.0.1->model-trust==0.0.1) (3.1.2)\n",
      "Requirement already satisfied: nvidia-cufft-cu12==11.0.2.54 in /opt/app-root/lib/python3.9/site-packages (from torch>=2.0.1->model-trust==0.0.1) (11.0.2.54)\n",
      "Requirement already satisfied: networkx in /opt/app-root/lib/python3.9/site-packages (from torch>=2.0.1->model-trust==0.0.1) (3.2)\n",
      "Requirement already satisfied: nvidia-cusolver-cu12==11.4.5.107 in /opt/app-root/lib/python3.9/site-packages (from torch>=2.0.1->model-trust==0.0.1) (11.4.5.107)\n",
      "Requirement already satisfied: nvidia-cuda-nvrtc-cu12==12.1.105 in /opt/app-root/lib/python3.9/site-packages (from torch>=2.0.1->model-trust==0.0.1) (12.1.105)\n",
      "Requirement already satisfied: typing-extensions in /opt/app-root/lib/python3.9/site-packages (from torch>=2.0.1->model-trust==0.0.1) (4.8.0)\n",
      "Requirement already satisfied: nvidia-cudnn-cu12==8.9.2.26 in /opt/app-root/lib/python3.9/site-packages (from torch>=2.0.1->model-trust==0.0.1) (8.9.2.26)\n",
      "Requirement already satisfied: fsspec in /opt/app-root/lib/python3.9/site-packages (from torch>=2.0.1->model-trust==0.0.1) (2023.10.0)\n",
      "Requirement already satisfied: filelock in /opt/app-root/lib/python3.9/site-packages (from torch>=2.0.1->model-trust==0.0.1) (3.12.4)\n",
      "Requirement already satisfied: nvidia-cuda-cupti-cu12==12.1.105 in /opt/app-root/lib/python3.9/site-packages (from torch>=2.0.1->model-trust==0.0.1) (12.1.105)\n",
      "Requirement already satisfied: nvidia-cublas-cu12==12.1.3.1 in /opt/app-root/lib/python3.9/site-packages (from torch>=2.0.1->model-trust==0.0.1) (12.1.3.1)\n",
      "Requirement already satisfied: nvidia-cusparse-cu12==12.1.0.106 in /opt/app-root/lib/python3.9/site-packages (from torch>=2.0.1->model-trust==0.0.1) (12.1.0.106)\n",
      "Requirement already satisfied: sympy in /opt/app-root/lib/python3.9/site-packages (from torch>=2.0.1->model-trust==0.0.1) (1.12)\n",
      "Requirement already satisfied: triton==2.1.0 in /opt/app-root/lib/python3.9/site-packages (from torch>=2.0.1->model-trust==0.0.1) (2.1.0)\n",
      "Requirement already satisfied: nvidia-cuda-runtime-cu12==12.1.105 in /opt/app-root/lib/python3.9/site-packages (from torch>=2.0.1->model-trust==0.0.1) (12.1.105)\n",
      "Requirement already satisfied: nvidia-nccl-cu12==2.18.1 in /opt/app-root/lib/python3.9/site-packages (from torch>=2.0.1->model-trust==0.0.1) (2.18.1)\n",
      "Requirement already satisfied: nvidia-nvjitlink-cu12 in /opt/app-root/lib/python3.9/site-packages (from nvidia-cusolver-cu12==11.4.5.107->torch>=2.0.1->model-trust==0.0.1) (12.3.101)\n",
      "Requirement already satisfied: notebook in /opt/app-root/lib/python3.9/site-packages (from jyquickhelper->model-trust==0.0.1) (6.5.6)\n",
      "Requirement already satisfied: jupyter in /opt/app-root/lib/python3.9/site-packages (from jyquickhelper->model-trust==0.0.1) (1.0.0)\n",
      "Requirement already satisfied: ipython in /opt/app-root/lib/python3.9/site-packages (from jyquickhelper->model-trust==0.0.1) (8.16.1)\n",
      "Requirement already satisfied: pybind11 in /opt/app-root/lib/python3.9/site-packages (from mlprodict->model-trust==0.0.1) (2.11.1)\n",
      "Requirement already satisfied: onnx>=1.12.0 in /opt/app-root/lib/python3.9/site-packages (from mlprodict->model-trust==0.0.1) (1.15.0)\n",
      "Requirement already satisfied: cython in /opt/app-root/lib/python3.9/site-packages (from mlprodict->model-trust==0.0.1) (3.0.6)\n",
      "Requirement already satisfied: flatbuffers in /opt/app-root/lib/python3.9/site-packages (from onnxruntime->model-trust==0.0.1) (23.5.26)\n",
      "Requirement already satisfied: coloredlogs in /opt/app-root/lib/python3.9/site-packages (from onnxruntime->model-trust==0.0.1) (15.0.1)\n",
      "Requirement already satisfied: onnxconverter-common>=1.7.0 in /opt/app-root/lib/python3.9/site-packages (from skl2onnx->model-trust==0.0.1) (1.14.0)\n",
      "Requirement already satisfied: Mako in /opt/app-root/lib/python3.9/site-packages (from alembic>=1.5.0->optuna==3.4.0->model-trust==0.0.1) (1.3.0)\n",
      "Requirement already satisfied: six>=1.5 in /opt/app-root/lib/python3.9/site-packages (from python-dateutil>=2.8.1->pandas>=1.4.3->model-trust==0.0.1) (1.16.0)\n",
      "Requirement already satisfied: greenlet!=0.4.17 in /opt/app-root/lib/python3.9/site-packages (from sqlalchemy>=1.3.0->optuna==3.4.0->model-trust==0.0.1) (3.0.2)\n",
      "Requirement already satisfied: humanfriendly>=9.1 in /opt/app-root/lib/python3.9/site-packages (from coloredlogs->onnxruntime->model-trust==0.0.1) (10.0)\n",
      "Requirement already satisfied: traitlets>=5 in /opt/app-root/lib/python3.9/site-packages (from ipython->jyquickhelper->model-trust==0.0.1) (5.12.0)\n",
      "Requirement already satisfied: pexpect>4.3 in /opt/app-root/lib/python3.9/site-packages (from ipython->jyquickhelper->model-trust==0.0.1) (4.8.0)\n",
      "Requirement already satisfied: exceptiongroup in /opt/app-root/lib/python3.9/site-packages (from ipython->jyquickhelper->model-trust==0.0.1) (1.1.3)\n",
      "Requirement already satisfied: decorator in /opt/app-root/lib/python3.9/site-packages (from ipython->jyquickhelper->model-trust==0.0.1) (5.1.1)\n",
      "Requirement already satisfied: pickleshare in /opt/app-root/lib/python3.9/site-packages (from ipython->jyquickhelper->model-trust==0.0.1) (0.7.5)\n",
      "Requirement already satisfied: jedi>=0.16 in /opt/app-root/lib/python3.9/site-packages (from ipython->jyquickhelper->model-trust==0.0.1) (0.19.1)\n",
      "Requirement already satisfied: prompt-toolkit!=3.0.37,<3.1.0,>=3.0.30 in /opt/app-root/lib/python3.9/site-packages (from ipython->jyquickhelper->model-trust==0.0.1) (3.0.39)\n",
      "Requirement already satisfied: backcall in /opt/app-root/lib/python3.9/site-packages (from ipython->jyquickhelper->model-trust==0.0.1) (0.2.0)\n",
      "Requirement already satisfied: pygments>=2.4.0 in /opt/app-root/lib/python3.9/site-packages (from ipython->jyquickhelper->model-trust==0.0.1) (2.16.1)\n",
      "Requirement already satisfied: stack-data in /opt/app-root/lib/python3.9/site-packages (from ipython->jyquickhelper->model-trust==0.0.1) (0.6.3)\n",
      "Requirement already satisfied: matplotlib-inline in /opt/app-root/lib/python3.9/site-packages (from ipython->jyquickhelper->model-trust==0.0.1) (0.1.6)\n",
      "Requirement already satisfied: MarkupSafe>=2.0 in /opt/app-root/lib/python3.9/site-packages (from jinja2->torch>=2.0.1->model-trust==0.0.1) (2.1.3)\n",
      "Requirement already satisfied: jupyter-console in /opt/app-root/lib/python3.9/site-packages (from jupyter->jyquickhelper->model-trust==0.0.1) (6.6.3)\n",
      "Requirement already satisfied: nbconvert in /opt/app-root/lib/python3.9/site-packages (from jupyter->jyquickhelper->model-trust==0.0.1) (7.9.2)\n",
      "Requirement already satisfied: qtconsole in /opt/app-root/lib/python3.9/site-packages (from jupyter->jyquickhelper->model-trust==0.0.1) (5.5.1)\n",
      "Requirement already satisfied: ipywidgets in /opt/app-root/lib/python3.9/site-packages (from jupyter->jyquickhelper->model-trust==0.0.1) (8.1.1)\n",
      "Requirement already satisfied: ipykernel in /opt/app-root/lib/python3.9/site-packages (from jupyter->jyquickhelper->model-trust==0.0.1) (6.26.0)\n",
      "Requirement already satisfied: Send2Trash>=1.8.0 in /opt/app-root/lib/python3.9/site-packages (from notebook->jyquickhelper->model-trust==0.0.1) (1.8.2)\n",
      "Requirement already satisfied: nbclassic>=0.4.7 in /opt/app-root/lib/python3.9/site-packages (from notebook->jyquickhelper->model-trust==0.0.1) (1.0.0)\n",
      "Requirement already satisfied: jupyter-core>=4.6.1 in /opt/app-root/lib/python3.9/site-packages (from notebook->jyquickhelper->model-trust==0.0.1) (5.4.0)\n",
      "Requirement already satisfied: jupyter-client<8,>=5.3.4 in /opt/app-root/lib/python3.9/site-packages (from notebook->jyquickhelper->model-trust==0.0.1) (7.4.9)\n",
      "Requirement already satisfied: prometheus-client in /opt/app-root/lib/python3.9/site-packages (from notebook->jyquickhelper->model-trust==0.0.1) (0.13.1)\n",
      "Requirement already satisfied: pyzmq<25,>=17 in /opt/app-root/lib/python3.9/site-packages (from notebook->jyquickhelper->model-trust==0.0.1) (24.0.1)\n",
      "Requirement already satisfied: ipython-genutils in /opt/app-root/lib/python3.9/site-packages (from notebook->jyquickhelper->model-trust==0.0.1) (0.2.0)\n",
      "Requirement already satisfied: argon2-cffi in /opt/app-root/lib/python3.9/site-packages (from notebook->jyquickhelper->model-trust==0.0.1) (23.1.0)\n",
      "Requirement already satisfied: terminado>=0.8.3 in /opt/app-root/lib/python3.9/site-packages (from notebook->jyquickhelper->model-trust==0.0.1) (0.17.1)\n",
      "Requirement already satisfied: nbformat in /opt/app-root/lib/python3.9/site-packages (from notebook->jyquickhelper->model-trust==0.0.1) (5.9.2)\n",
      "Requirement already satisfied: nest-asyncio>=1.5 in /opt/app-root/lib/python3.9/site-packages (from notebook->jyquickhelper->model-trust==0.0.1) (1.5.8)\n",
      "Requirement already satisfied: tornado>=6.1 in /opt/app-root/lib/python3.9/site-packages (from notebook->jyquickhelper->model-trust==0.0.1) (6.3.3)\n",
      "Requirement already satisfied: mpmath>=0.19 in /opt/app-root/lib/python3.9/site-packages (from sympy->torch>=2.0.1->model-trust==0.0.1) (1.3.0)\n",
      "Requirement already satisfied: parso<0.9.0,>=0.8.3 in /opt/app-root/lib/python3.9/site-packages (from jedi>=0.16->ipython->jyquickhelper->model-trust==0.0.1) (0.8.3)\n",
      "Requirement already satisfied: entrypoints in /opt/app-root/lib/python3.9/site-packages (from jupyter-client<8,>=5.3.4->notebook->jyquickhelper->model-trust==0.0.1) (0.4)\n",
      "Requirement already satisfied: platformdirs>=2.5 in /opt/app-root/lib/python3.9/site-packages (from jupyter-core>=4.6.1->notebook->jyquickhelper->model-trust==0.0.1) (3.11.0)\n",
      "Requirement already satisfied: jupyter-server>=1.8 in /opt/app-root/lib/python3.9/site-packages (from nbclassic>=0.4.7->notebook->jyquickhelper->model-trust==0.0.1) (2.7.3)\n",
      "Requirement already satisfied: notebook-shim>=0.2.3 in /opt/app-root/lib/python3.9/site-packages (from nbclassic>=0.4.7->notebook->jyquickhelper->model-trust==0.0.1) (0.2.3)\n",
      "Requirement already satisfied: nbclient>=0.5.0 in /opt/app-root/lib/python3.9/site-packages (from nbconvert->jupyter->jyquickhelper->model-trust==0.0.1) (0.8.0)\n",
      "Requirement already satisfied: beautifulsoup4 in /opt/app-root/lib/python3.9/site-packages (from nbconvert->jupyter->jyquickhelper->model-trust==0.0.1) (4.12.2)\n",
      "Requirement already satisfied: jupyterlab-pygments in /opt/app-root/lib/python3.9/site-packages (from nbconvert->jupyter->jyquickhelper->model-trust==0.0.1) (0.2.2)\n",
      "Requirement already satisfied: importlib-metadata>=3.6 in /opt/app-root/lib/python3.9/site-packages (from nbconvert->jupyter->jyquickhelper->model-trust==0.0.1) (6.8.0)\n",
      "Requirement already satisfied: pandocfilters>=1.4.1 in /opt/app-root/lib/python3.9/site-packages (from nbconvert->jupyter->jyquickhelper->model-trust==0.0.1) (1.5.0)\n",
      "Requirement already satisfied: mistune<4,>=2.0.3 in /opt/app-root/lib/python3.9/site-packages (from nbconvert->jupyter->jyquickhelper->model-trust==0.0.1) (3.0.2)\n",
      "Requirement already satisfied: bleach!=5.0.0 in /opt/app-root/lib/python3.9/site-packages (from nbconvert->jupyter->jyquickhelper->model-trust==0.0.1) (6.1.0)\n",
      "Requirement already satisfied: tinycss2 in /opt/app-root/lib/python3.9/site-packages (from nbconvert->jupyter->jyquickhelper->model-trust==0.0.1) (1.2.1)\n",
      "Requirement already satisfied: defusedxml in /opt/app-root/lib/python3.9/site-packages (from nbconvert->jupyter->jyquickhelper->model-trust==0.0.1) (0.7.1)\n",
      "Requirement already satisfied: jsonschema>=2.6 in /opt/app-root/lib/python3.9/site-packages (from nbformat->notebook->jyquickhelper->model-trust==0.0.1) (4.19.1)\n",
      "Requirement already satisfied: fastjsonschema in /opt/app-root/lib/python3.9/site-packages (from nbformat->notebook->jyquickhelper->model-trust==0.0.1) (2.18.1)\n",
      "Requirement already satisfied: ptyprocess>=0.5 in /opt/app-root/lib/python3.9/site-packages (from pexpect>4.3->ipython->jyquickhelper->model-trust==0.0.1) (0.7.0)\n",
      "Requirement already satisfied: wcwidth in /opt/app-root/lib/python3.9/site-packages (from prompt-toolkit!=3.0.37,<3.1.0,>=3.0.30->ipython->jyquickhelper->model-trust==0.0.1) (0.2.8)\n",
      "Requirement already satisfied: argon2-cffi-bindings in /opt/app-root/lib/python3.9/site-packages (from argon2-cffi->notebook->jyquickhelper->model-trust==0.0.1) (21.2.0)\n",
      "Requirement already satisfied: debugpy>=1.6.5 in /opt/app-root/lib/python3.9/site-packages (from ipykernel->jupyter->jyquickhelper->model-trust==0.0.1) (1.8.0)\n",
      "Requirement already satisfied: comm>=0.1.1 in /opt/app-root/lib/python3.9/site-packages (from ipykernel->jupyter->jyquickhelper->model-trust==0.0.1) (0.1.4)\n",
      "Requirement already satisfied: psutil in /opt/app-root/lib/python3.9/site-packages (from ipykernel->jupyter->jyquickhelper->model-trust==0.0.1) (5.9.6)\n",
      "Requirement already satisfied: widgetsnbextension~=4.0.9 in /opt/app-root/lib/python3.9/site-packages (from ipywidgets->jupyter->jyquickhelper->model-trust==0.0.1) (4.0.9)\n",
      "Requirement already satisfied: jupyterlab-widgets~=3.0.9 in /opt/app-root/lib/python3.9/site-packages (from ipywidgets->jupyter->jyquickhelper->model-trust==0.0.1) (3.0.9)\n",
      "Requirement already satisfied: qtpy>=2.4.0 in /opt/app-root/lib/python3.9/site-packages (from qtconsole->jupyter->jyquickhelper->model-trust==0.0.1) (2.4.1)\n",
      "Requirement already satisfied: executing>=1.2.0 in /opt/app-root/lib/python3.9/site-packages (from stack-data->ipython->jyquickhelper->model-trust==0.0.1) (1.2.0)\n",
      "Requirement already satisfied: asttokens>=2.1.0 in /opt/app-root/lib/python3.9/site-packages (from stack-data->ipython->jyquickhelper->model-trust==0.0.1) (2.4.1)\n",
      "Requirement already satisfied: pure-eval in /opt/app-root/lib/python3.9/site-packages (from stack-data->ipython->jyquickhelper->model-trust==0.0.1) (0.2.2)\n",
      "Requirement already satisfied: webencodings in /opt/app-root/lib/python3.9/site-packages (from bleach!=5.0.0->nbconvert->jupyter->jyquickhelper->model-trust==0.0.1) (0.5.1)\n",
      "Requirement already satisfied: zipp>=0.5 in /opt/app-root/lib/python3.9/site-packages (from importlib-metadata>=3.6->nbconvert->jupyter->jyquickhelper->model-trust==0.0.1) (3.17.0)\n",
      "Requirement already satisfied: referencing>=0.28.4 in /opt/app-root/lib/python3.9/site-packages (from jsonschema>=2.6->nbformat->notebook->jyquickhelper->model-trust==0.0.1) (0.30.2)\n",
      "Requirement already satisfied: attrs>=22.2.0 in /opt/app-root/lib/python3.9/site-packages (from jsonschema>=2.6->nbformat->notebook->jyquickhelper->model-trust==0.0.1) (23.1.0)\n",
      "Requirement already satisfied: jsonschema-specifications>=2023.03.6 in /opt/app-root/lib/python3.9/site-packages (from jsonschema>=2.6->nbformat->notebook->jyquickhelper->model-trust==0.0.1) (2023.7.1)\n",
      "Requirement already satisfied: rpds-py>=0.7.1 in /opt/app-root/lib/python3.9/site-packages (from jsonschema>=2.6->nbformat->notebook->jyquickhelper->model-trust==0.0.1) (0.10.6)\n",
      "Requirement already satisfied: websocket-client in /opt/app-root/lib/python3.9/site-packages (from jupyter-server>=1.8->nbclassic>=0.4.7->notebook->jyquickhelper->model-trust==0.0.1) (1.6.4)\n",
      "Requirement already satisfied: jupyter-server-terminals in /opt/app-root/lib/python3.9/site-packages (from jupyter-server>=1.8->nbclassic>=0.4.7->notebook->jyquickhelper->model-trust==0.0.1) (0.4.4)\n",
      "Requirement already satisfied: anyio>=3.1.0 in /opt/app-root/lib/python3.9/site-packages (from jupyter-server>=1.8->nbclassic>=0.4.7->notebook->jyquickhelper->model-trust==0.0.1) (4.0.0)\n",
      "Requirement already satisfied: overrides in /opt/app-root/lib/python3.9/site-packages (from jupyter-server>=1.8->nbclassic>=0.4.7->notebook->jyquickhelper->model-trust==0.0.1) (7.4.0)\n",
      "Requirement already satisfied: jupyter-events>=0.6.0 in /opt/app-root/lib/python3.9/site-packages (from jupyter-server>=1.8->nbclassic>=0.4.7->notebook->jyquickhelper->model-trust==0.0.1) (0.8.0)\n",
      "Requirement already satisfied: cffi>=1.0.1 in /opt/app-root/lib/python3.9/site-packages (from argon2-cffi-bindings->argon2-cffi->notebook->jyquickhelper->model-trust==0.0.1) (1.16.0)\n",
      "Requirement already satisfied: soupsieve>1.2 in /opt/app-root/lib/python3.9/site-packages (from beautifulsoup4->nbconvert->jupyter->jyquickhelper->model-trust==0.0.1) (2.5)\n",
      "Requirement already satisfied: idna>=2.8 in /opt/app-root/lib/python3.9/site-packages (from anyio>=3.1.0->jupyter-server>=1.8->nbclassic>=0.4.7->notebook->jyquickhelper->model-trust==0.0.1) (3.4)\n",
      "Requirement already satisfied: sniffio>=1.1 in /opt/app-root/lib/python3.9/site-packages (from anyio>=3.1.0->jupyter-server>=1.8->nbclassic>=0.4.7->notebook->jyquickhelper->model-trust==0.0.1) (1.3.0)\n",
      "Requirement already satisfied: pycparser in /opt/app-root/lib/python3.9/site-packages (from cffi>=1.0.1->argon2-cffi-bindings->argon2-cffi->notebook->jyquickhelper->model-trust==0.0.1) (2.21)\n",
      "Requirement already satisfied: rfc3339-validator in /opt/app-root/lib/python3.9/site-packages (from jupyter-events>=0.6.0->jupyter-server>=1.8->nbclassic>=0.4.7->notebook->jyquickhelper->model-trust==0.0.1) (0.1.4)\n",
      "Requirement already satisfied: python-json-logger>=2.0.4 in /opt/app-root/lib/python3.9/site-packages (from jupyter-events>=0.6.0->jupyter-server>=1.8->nbclassic>=0.4.7->notebook->jyquickhelper->model-trust==0.0.1) (2.0.7)\n",
      "Requirement already satisfied: rfc3986-validator>=0.1.1 in /opt/app-root/lib/python3.9/site-packages (from jupyter-events>=0.6.0->jupyter-server>=1.8->nbclassic>=0.4.7->notebook->jyquickhelper->model-trust==0.0.1) (0.1.1)\n",
      "Requirement already satisfied: jsonpointer>1.13 in /opt/app-root/lib/python3.9/site-packages (from jsonschema>=2.6->nbformat->notebook->jyquickhelper->model-trust==0.0.1) (2.4)\n",
      "Requirement already satisfied: uri-template in /opt/app-root/lib/python3.9/site-packages (from jsonschema>=2.6->nbformat->notebook->jyquickhelper->model-trust==0.0.1) (1.3.0)\n",
      "Requirement already satisfied: webcolors>=1.11 in /opt/app-root/lib/python3.9/site-packages (from jsonschema>=2.6->nbformat->notebook->jyquickhelper->model-trust==0.0.1) (1.13)\n",
      "Requirement already satisfied: fqdn in /opt/app-root/lib/python3.9/site-packages (from jsonschema>=2.6->nbformat->notebook->jyquickhelper->model-trust==0.0.1) (1.5.1)\n",
      "Requirement already satisfied: isoduration in /opt/app-root/lib/python3.9/site-packages (from jsonschema>=2.6->nbformat->notebook->jyquickhelper->model-trust==0.0.1) (20.11.0)\n",
      "Requirement already satisfied: arrow>=0.15.0 in /opt/app-root/lib/python3.9/site-packages (from isoduration->jsonschema>=2.6->nbformat->notebook->jyquickhelper->model-trust==0.0.1) (1.3.0)\n",
      "Requirement already satisfied: types-python-dateutil>=2.8.10 in /opt/app-root/lib/python3.9/site-packages (from arrow>=0.15.0->isoduration->jsonschema>=2.6->nbformat->notebook->jyquickhelper->model-trust==0.0.1) (2.8.19.14)\n",
      "Building wheels for collected packages: model-trust\n",
      "  Building wheel for model-trust (setup.py) ... \u001b[?25ldone\n",
      "\u001b[?25h  Created wheel for model-trust: filename=model_trust-0.0.1-py3-none-any.whl size=27955 sha256=bebdf18801ac367b90c06fa60e59b782d3bfe1d312e6744ab3548d428ffd0a52\n",
      "  Stored in directory: /tmp/pip-ephem-wheel-cache-4dvuxn6o/wheels/70/c7/e0/ac890070dac83e6b26e3089662857ce01b09ae4cad2bd505d6\n",
      "Successfully built model-trust\n",
      "Installing collected packages: model-trust\n",
      "  Attempting uninstall: model-trust\n",
      "    Found existing installation: model-trust 0.0.1\n",
      "    Uninstalling model-trust-0.0.1:\n",
      "      Successfully uninstalled model-trust-0.0.1\n",
      "Successfully installed model-trust-0.0.1\n",
      "\n",
      "\u001b[1m[\u001b[0m\u001b[34;49mnotice\u001b[0m\u001b[1;39;49m]\u001b[0m\u001b[39;49m A new release of pip available: \u001b[0m\u001b[31;49m22.2.2\u001b[0m\u001b[39;49m -> \u001b[0m\u001b[32;49m23.3.1\u001b[0m\n",
      "\u001b[1m[\u001b[0m\u001b[34;49mnotice\u001b[0m\u001b[1;39;49m]\u001b[0m\u001b[39;49m To update, run: \u001b[0m\u001b[32;49mpip install --upgrade pip\u001b[0m\n"
     ]
    }
   ],
   "source": [
    "!pip install trustyai-model-trust/"
   ]
  },
  {
   "cell_type": "markdown",
   "id": "85821f7e-1fb7-4279-9015-e0aac09581ff",
   "metadata": {},
   "source": [
    "### Imports"
   ]
  },
  {
   "cell_type": "code",
   "execution_count": 3,
   "id": "14595e02-3f61-414f-91ac-212ce7f13182",
   "metadata": {
    "tags": []
   },
   "outputs": [],
   "source": [
    "import json\n",
    "import onnx\n",
    "import warnings\n",
    "import numpy as np\n",
    "import pandas as pd\n",
    "from joblib import dump\n",
    "import onnxruntime as rt\n",
    "import matplotlib.pyplot as plt\n",
    "from sklearn.linear_model import LinearRegression\n",
    "from model_trust.datasets.synthetic_data import load_linear_2_region_data\n",
    "from model_trust.regression.region_uncertainty_estimation import RegionUncertaintyEstimator\n",
    "\n",
    "warnings.filterwarnings(\"ignore\")"
   ]
  },
  {
   "cell_type": "markdown",
   "id": "bc2521f7-d60f-4490-a5f5-e6d07cd22efe",
   "metadata": {},
   "source": [
    "### Load Data"
   ]
  },
  {
   "cell_type": "code",
   "execution_count": 4,
   "id": "13827eb1-9695-442c-bba8-4bbf572b2e7a",
   "metadata": {
    "tags": []
   },
   "outputs": [],
   "source": [
    "quantile = 0.9\n",
    "dataset = load_linear_2_region_data(nsamples=3000,\n",
    "                                      quantile=quantile,\n",
    "                                      sigma_0=1,\n",
    "                                      sigma_1=4,\n",
    "                                      test_ratio=0.2,\n",
    "                                      cal_ratio=0.2,\n",
    "                                      seed=42,)\n",
    "\n",
    "data = dataset[\"data\"]\n",
    "features = dataset[\"features\"]\n",
    "target = dataset[\"target\"]\n",
    "X = data[features].values\n",
    "Y = data[target].values\n",
    "\n",
    "x_train = dataset[\"x_train\"]\n",
    "x_test = dataset[\"x_test\"]\n",
    "x_cal = dataset[\"x_cal\"]\n",
    "\n",
    "y_train = dataset[\"y_train\"]\n",
    "y_test = dataset[\"y_test\"]\n",
    "y_cal = dataset[\"y_cal\"]"
   ]
  },
  {
   "cell_type": "code",
   "execution_count": 5,
   "id": "2fd0352d-4e66-4167-aba5-7eea577b7f95",
   "metadata": {
    "tags": []
   },
   "outputs": [
    {
     "data": {
      "image/png": "[encoded data removed]",
      "text/plain": [
       "<Figure size 600x600 with 1 Axes>"
      ]
     },
     "metadata": {},
     "output_type": "display_data"
    }
   ],
   "source": [
    "pi_gt_low = data[\"PI_GT_LOW\"].values\n",
    "pi_gt_high = data[\"PI_GT_HIGH\"].values\n",
    "Y_mean = data[\"Y_mean\"].values\n",
    "coverage_empirical = np.mean((Y <= pi_gt_high)& (Y >= pi_gt_low))\n",
    "\n",
    "X_sort = np.sort(X.flatten())\n",
    "X_sort_indices = np.argsort(X.flatten())\n",
    "\n",
    "plt.figure(figsize=(6,6))\n",
    "plt.plot(X, Y, \".\", label=\"Y\")\n",
    "# plt.title(\"COVERAGE TARGET {}; EMPIRICAL : {}\".format(str(quantile), str(np.round(coverage_empirical,2)))) # title ??\n",
    "plt.title(\"Prediction interval with coverage {}\".format(str(quantile)))\n",
    "\n",
    "plt.plot(X_sort, Y_mean[X_sort_indices],  'orange', label = 'E[Y|X]')\n",
    "plt.plot(X_sort, pi_gt_high[X_sort_indices], 'r', label = 'PI_high')\n",
    "plt.plot(X_sort, pi_gt_low[X_sort_indices], 'r', label = 'PI_low')\n",
    "plt.xlabel(\"X\")\n",
    "plt.ylabel(\"Y\")\n",
    "\n",
    "plt.legend()\n",
    "plt.show()"
   ]
  },
  {
   "cell_type": "markdown",
   "id": "4e7731a4-6e12-493d-9c53-4cfe31521f5d",
   "metadata": {},
   "source": [
    "### Download Base Model From S3"
   ]
  },
  {
   "cell_type": "code",
   "execution_count": 6,
   "id": "101f9fe6-e76c-4d9a-a5b8-faba2c956e18",
   "metadata": {
    "tags": []
   },
   "outputs": [],
   "source": [
    "# s3 connection\n",
    "import os\n",
    "import boto3\n",
    "\n",
    "session = boto3.Session(\n",
    "    aws_access_key_id=os.getenv(\"AWS_ACCESS_KEY_ID\"),\n",
    "    aws_secret_access_key=os.getenv(\"AWS_SECRET_ACCESS_KEY\"),\n",
    ")\n",
    "s3_client = session.client('s3',\n",
    "                    endpoint_url=os.getenv(\"AWS_ENDPOINT_URL\"),\n",
    "                    region_name=os.getenv(\"AWS_REGION\"),\n",
    ")\n",
    "\n"
   ]
  },
  {
   "cell_type": "code",
   "execution_count": 7,
   "id": "cca22bd9-7302-42d9-b7c2-9a09f5b9cabc",
   "metadata": {
    "tags": []
   },
   "outputs": [
    {
     "data": {
      "text/plain": [
       "b'\\x08\\x08\\x12\\x08skl2onnx\\x1a\\x061.15.0\"\\x07ai.onnx(\\x002\\x00:\\xb0\\x01\\ni\\n\\x01X\\x12\\x08variable\\x1a\\x0fLinearRegressor\"\\x0fLinearRegressor*\\x16\\n\\x0ccoefficients=\\xbcC!A\\xa0\\x01\\x06*\\x14\\n\\nintercepts=\\x1e\\xec\\xdc<\\xa0\\x01\\x06:\\nai.onnx.ml\\x12\\x16ONNX(LinearRegression)Z\\x11\\n\\x01X\\x12\\x0c\\n\\n\\x08\\x01\\x12\\x06\\n\\x00\\n\\x02\\x08\\x01b\\x18\\n\\x08variable\\x12\\x0c\\n\\n\\x08\\x01\\x12\\x06\\n\\x00\\n\\x02\\x08\\x01B\\x0e\\n\\nai.onnx.ml\\x10\\x01B\\x04\\n\\x00\\x10\\x11'"
      ]
     },
     "execution_count": 7,
     "metadata": {},
     "output_type": "execute_result"
    }
   ],
   "source": [
    "base_model_bucket = \"model-trust\" # s3 bucket with base model\n",
    "base_model_path = \"onnx_models/base_onnx_model.onnx\" # model path within the s3 bucket\n",
    "\n",
    "base_onnx_model_str = s3_client.get_object(Bucket=base_model_bucket, Key=base_model_path)['Body'].read()\n",
    "base_onnx_model_str"
   ]
  },
  {
   "cell_type": "code",
   "execution_count": 8,
   "id": "a701f067-ccba-48a3-912e-5cc8555636fe",
   "metadata": {
    "tags": []
   },
   "outputs": [
    {
     "data": {
      "text/plain": [
       "array([[2.4208233]], dtype=float32)"
      ]
     },
     "execution_count": 8,
     "metadata": {},
     "output_type": "execute_result"
    }
   ],
   "source": [
    "sess = rt.InferenceSession(base_onnx_model_str)\n",
    "sess.run(None, {\"X\": x_test[0:1].astype(np.float32)})[0]"
   ]
  },
  {
   "cell_type": "code",
   "execution_count": 9,
   "id": "de70b32f-391b-4280-a559-4093074e4abf",
   "metadata": {
    "tags": []
   },
   "outputs": [],
   "source": [
    "# y_pred_cal = base_model.predict(x_cal)\n",
    "y_pred_cal = sess.run(None, {\"X\": x_cal.astype(np.float32)})[0].flatten()"
   ]
  },
  {
   "cell_type": "markdown",
   "id": "19ec44b8-e501-420e-8b27-d1863b0bbf94",
   "metadata": {},
   "source": [
    "### Train and Prepare Model Trust Model"
   ]
  },
  {
   "cell_type": "code",
   "execution_count": 10,
   "id": "9e1c16e2-bd8e-4163-af35-41617fdd9735",
   "metadata": {
    "tags": []
   },
   "outputs": [],
   "source": [
    "multi_region_cp_inputs = {}\n",
    "multi_region_cp_inputs['confidence'] = quantile*100\n",
    "multi_region_cp_inputs['regions_model'] = \"multi_region\"\n",
    "multi_region_cp_inputs['base_model'] = base_onnx_model_str\n",
    "\n",
    "# region parameters\n",
    "multi_region_cp_inputs[\"multi_region_model_selection_metric\"] = \"coverage_ratio\"\n",
    "multi_region_cp_inputs[\"multi_region_model_selection_stat\"] = \"min\"\n",
    "multi_region_cp_inputs[\"multi_region_min_group_size\"] = 20\n",
    "\n",
    "multi_region_cp_model = RegionUncertaintyEstimator(**multi_region_cp_inputs)"
   ]
  },
  {
   "cell_type": "code",
   "execution_count": 11,
   "id": "11315dc0-2541-44cc-9892-cd18849c283c",
   "metadata": {
    "tags": []
   },
   "outputs": [
    {
     "name": "stdout",
     "output_type": "stream",
     "text": [
      "Best Params :{'min_samples_leaf': 50, 'ccp_alpha': 0.001, 'max_depth': 2, 'random_state': 42}\n",
      "Best model :DecisionTreeRegressor(ccp_alpha=0.001, max_depth=2, min_samples_leaf=50,\n",
      "                      random_state=42)\n",
      "CPU times: user 3min 24s, sys: 972 ms, total: 3min 25s\n",
      "Wall time: 1min 43s\n"
     ]
    },
    {
     "data": {
      "text/plain": [
       "<model_trust.regression.region_uncertainty_estimation.RegionUncertaintyEstimator at 0x7f0e794fca30>"
      ]
     },
     "execution_count": 11,
     "metadata": {},
     "output_type": "execute_result"
    }
   ],
   "source": [
    "%time multi_region_cp_model.fit(x_cal, y_cal, y_pred_cal)"
   ]
  },
  {
   "cell_type": "markdown",
   "id": "9ba215d9-f6bd-4fda-adda-025449075dbf",
   "metadata": {},
   "source": [
    "### Upload Model Trust Model To COS"
   ]
  },
  {
   "cell_type": "code",
   "execution_count": 12,
   "id": "0cfc40c0-8bfb-4710-9bb9-091d5fc7b5fd",
   "metadata": {},
   "outputs": [
    {
     "data": {
      "text/plain": [
       "b'\\x08\\x08\\x12\\x19onnx.compose.merge_models\\x1a\\x031.0\"\\x00(\\x01:\\x80\\x0f\\nt\\n\\x01X\\x12\\x13base_model_variable\\x1a\\x0fLinearRegressor\"\\x0fLinearRegressor*\\x16\\n\\x0ccoefficients=\\xbcC!A\\xa0\\x01\\x06*\\x14\\n\\nintercepts=\\x1e\\xec\\xdc<\\xa0\\x01\\x06:\\nai.onnx.ml\\n\\x15\\n\\x01X\\x12\\x06x_orig\"\\x08Identity\\n\\xcd\\x04\\n\\x01X\\x12\\x08variable\\x1a\\x15TreeEnsembleRegressor\"\\x15TreeEnsembleRegressor*\\x10\\n\\tn_targets\\x18\\x01\\xa0\\x01\\x02*!\\n\\x12nodes_falsenodeids@\\x02@\\x00@\\x04@\\x00@\\x00\\xa0\\x01\\x07*\\x1f\\n\\x10nodes_featureids@\\x00@\\x00@\\x00@\\x00@\\x00\\xa0\\x01\\x07*,\\n\\x0enodes_hitrates=\\x00\\x00\\x80?=\\x00\\x00\\x80?=\\x00\\x00\\x80?=\\x00\\x00\\x80?=\\x00\\x00\\x80?\\xa0\\x01\\x06*.\\n\\x1fnodes_missing_value_tracks_true@\\x00@\\x00@\\x00@\\x00@\\x00\\xa0\\x01\\x07*:\\n\\x0bnodes_modesJ\\nBRANCH_LEQJ\\x04LEAFJ\\nBRANCH_LEQJ\\x04LEAFJ\\x04LEAF\\xa0\\x01\\x08*\\x1c\\n\\rnodes_nodeids@\\x00@\\x01@\\x02@\\x03@\\x04\\xa0\\x01\\x07*\\x1c\\n\\rnodes_treeids@\\x00@\\x00@\\x00@\\x00@\\x00\\xa0\\x01\\x07* \\n\\x11nodes_truenodeids@\\x01@\\x00@\\x03@\\x00@\\x00\\xa0\\x01\\x07**\\n\\x0cnodes_values=x\\xec6\\xbb=\\x00\\x00\\x00\\x00=\\x90\\xe4\\x07>=\\x00\\x00\\x00\\x00=\\x00\\x00\\x00\\x00\\xa0\\x01\\x06*\\x19\\n\\x0epost_transform\"\\x04NONE\\xa0\\x01\\x03*\\x15\\n\\ntarget_ids@\\x00@\\x00@\\x00\\xa0\\x01\\x07*\\x19\\n\\x0etarget_nodeids@\\x01@\\x03@\\x04\\xa0\\x01\\x07*\\x19\\n\\x0etarget_treeids@\\x00@\\x00@\\x00\\xa0\\x01\\x07*\"\\n\\x0etarget_weights=\\xe2\\xb4\\xde?=~\\xed\\xd5@=\\x9eY\\xd2@\\xa0\\x01\\x06:\\nai.onnx.ml\\n1\\n\\x08variable\\n\\x0bleaf_values\\x12\\r/Sub_output_0\\x1a\\x04/Sub\"\\x03Sub\\n)\\n\\r/Sub_output_0\\x12\\r/Abs_output_0\\x1a\\x04/Abs\"\\x03Abs\\nj\\n\\r/Abs_output_0\\x12\\x10/ArgMin_output_0\\x1a\\x07/ArgMin\"\\x06ArgMin*\\x0b\\n\\x04axis\\x18\\x01\\xa0\\x01\\x02*\\x0f\\n\\x08keepdims\\x18\\x00\\xa0\\x01\\x02*\\x18\\n\\x11select_last_index\\x18\\x00\\xa0\\x01\\x02\\nN\\n\\nerror_pval\\n\\x10/ArgMin_output_0\\x12\\x10/Gather_output_0\\x1a\\x07/Gather\"\\x06Gather*\\x0b\\n\\x04axis\\x18\\x00\\xa0\\x01\\x02\\nM\\n\\x13base_model_variable\\n\\x10/Gather_output_0\\x12\\x17exp_lower_pred_endpoint\\x1a\\x06/Sub_1\"\\x03Sub\\nR\\n\\nerror_pval\\n\\x10/ArgMin_output_0\\x12\\x12/Gather_1_output_0\\x1a\\t/Gather_1\"\\x06Gather*\\x0b\\n\\x04axis\\x18\\x00\\xa0\\x01\\x02\\nM\\n\\x13base_model_variable\\n\\x12/Gather_1_output_0\\x12\\x17exp_upper_pred_endpoint\\x1a\\x04/Add\"\\x03Add\\n\\'\\n\\x06x_orig\\x12\\x07input_x\\x1a\\nIdentity_7\"\\x08Identity\\n7\\n\\x13base_model_variable\\x12\\nprediction\\x1a\\nIdentity_8\"\\x08Identity\\n9\\n\\x08variable\\x12\\x17region_model_prediction\\x1a\\nIdentity_9\"\\x08Identity\\x123Modified_ONNX_Pipeline_with_Region_Model_main_graph* \\x08\\x03\\x08\\x01\\x10\\x01B\\nerror_pvalJ\\x0c\\xe3\\x88\\xde?\\x83\\r\\xe0@Q\\x85\\xf9@*\\x1f\\x08\\x03\\x10\\x01B\\x0bleaf_valuesJ\\x0c\\xe2\\xb4\\xde?\\x9eY\\xd2@~\\xed\\xd5@R\\x80\\x01Graph combining Modified_ONNX_Pipeline_with_Region_Model and main_graph\\nModified_ONNX_Pipeline_with_Region_Model\\n\\n\\n\\nmain_graph\\n\\nZ\\x11\\n\\x01X\\x12\\x0c\\n\\n\\x08\\x01\\x12\\x06\\n\\x00\\n\\x02\\x08\\x01b#\\n\\x07input_x\\x12\\x18\\n\\x16\\x08\\x01\\x12\\x12\\n\\x0c\\x12\\nbatch_size\\n\\x02\\x08\\x01b&\\n\\nprediction\\x12\\x18\\n\\x16\\x08\\x01\\x12\\x12\\n\\x0c\\x12\\nbatch_size\\n\\x02\\x08\\x01b3\\n\\x17region_model_prediction\\x12\\x18\\n\\x16\\x08\\x01\\x12\\x12\\n\\x0c\\x12\\nbatch_size\\n\\x02\\x08\\x01b3\\n\\x17exp_lower_pred_endpoint\\x12\\x18\\n\\x16\\x08\\x01\\x12\\x12\\n\\x0c\\x12\\nbatch_size\\n\\x02\\x08\\x01b3\\n\\x17exp_upper_pred_endpoint\\x12\\x18\\n\\x16\\x08\\x01\\x12\\x12\\n\\x0c\\x12\\nbatch_size\\n\\x02\\x08\\x01B\\x0e\\n\\nai.onnx.ml\\x10\\x01B\\x04\\n\\x00\\x10\\x11B\\x02\\x10\\x11'"
      ]
     },
     "execution_count": 12,
     "metadata": {},
     "output_type": "execute_result"
    }
   ],
   "source": [
    "model_trust_wrapped_model = multi_region_cp_model.export_learned_config()['combined_model']\n",
    "model_trust_wrapped_model"
   ]
  },
  {
   "cell_type": "code",
   "execution_count": 13,
   "id": "1820290f-7a93-4399-99af-b607bc781b63",
   "metadata": {
    "tags": []
   },
   "outputs": [
    {
     "data": {
      "text/plain": [
       "{'ResponseMetadata': {'RequestId': '93a879c2-a6b9-48eb-bb8a-f0337e146a60',\n",
       "  'HostId': '',\n",
       "  'HTTPStatusCode': 200,\n",
       "  'HTTPHeaders': {'date': 'Wed, 13 Dec 2023 04:18:00 GMT',\n",
       "   'x-clv-request-id': '93a879c2-a6b9-48eb-bb8a-f0337e146a60',\n",
       "   'server': 'Cleversafe',\n",
       "   'x-clv-s3-version': '2.5',\n",
       "   'x-amz-request-id': '93a879c2-a6b9-48eb-bb8a-f0337e146a60',\n",
       "   'etag': '\"b1c8edf416bc8f5dbcc13f5a94ae81af\"',\n",
       "   'content-length': '0'},\n",
       "  'RetryAttempts': 0},\n",
       " 'ETag': '\"b1c8edf416bc8f5dbcc13f5a94ae81af\"'}"
      ]
     },
     "execution_count": 13,
     "metadata": {},
     "output_type": "execute_result"
    }
   ],
   "source": [
    "# upload Model Trust model to S3\n",
    "model_trust_wrapped_model_path = \"onnx_models/multi_region_model_trust_model.onnx\"\n",
    "s3_client.put_object(Body=model_trust_wrapped_model, Bucket=base_model_bucket, Key=model_trust_wrapped_model_path)\n"
   ]
  },
  {
   "cell_type": "markdown",
   "id": "e9fbbc73-4bf6-4f69-8c24-a5f93ea731a6",
   "metadata": {},
   "source": [
    "### Deploy Model Trust Wrapped Model From S3 on Model Mesh"
   ]
  },
  {
   "cell_type": "markdown",
   "id": "aa49e69d-bae5-4de1-9c70-cf9797ae48f1",
   "metadata": {},
   "source": [
    "By this time, you might have created a s3 data connection in ODH. If not, create a data connection following [ODH Docs](https://opendatahub.io/docs/getting-started-with-open-data-hub/). Then, obtain the data connection resource name by clicking on \"?\" next to data connection name. It would be similar to \"aws-connection-s3store\"."
   ]
  },
  {
   "cell_type": "code",
   "execution_count": 51,
   "id": "a6dfa40e-e6fb-4e60-8187-3a8d11f00365",
   "metadata": {
    "tags": []
   },
   "outputs": [
    {
     "data": {
      "text/plain": [
       "{'apiVersion': 'serving.kserve.io/v1beta1',\n",
       " 'kind': 'InferenceService',\n",
       " 'metadata': {'annotations': {'serving.kserve.io/deploymentMode': 'ModelMesh'},\n",
       "  'creationTimestamp': '2023-12-13T05:01:08Z',\n",
       "  'generation': 1,\n",
       "  'managedFields': [{'apiVersion': 'serving.kserve.io/v1beta1',\n",
       "    'fieldsType': 'FieldsV1',\n",
       "    'fieldsV1': {'f:metadata': {'f:annotations': {'.': {},\n",
       "       'f:serving.kserve.io/deploymentMode': {}}},\n",
       "     'f:spec': {'.': {},\n",
       "      'f:predictor': {'.': {},\n",
       "       'f:batcher': {'.': {}, 'f:maxBatchSize': {}},\n",
       "       'f:model': {'.': {},\n",
       "        'f:modelFormat': {'.': {}, 'f:name': {}},\n",
       "        'f:name': {},\n",
       "        'f:runtime': {},\n",
       "        'f:storage': {'.': {}, 'f:key': {}, 'f:path': {}}}}}},\n",
       "    'manager': 'OpenAPI-Generator',\n",
       "    'operation': 'Update',\n",
       "    'time': '2023-12-13T05:01:08Z'}],\n",
       "  'name': 'trust-single-region-cos-model-4',\n",
       "  'namespace': 'model-trust-ds-project',\n",
       "  'resourceVersion': '37993612',\n",
       "  'uid': '45dea48d-1af8-4db2-9a95-23f2f0daa745'},\n",
       " 'spec': {'predictor': {'batcher': {'maxBatchSize': 10},\n",
       "   'model': {'modelFormat': {'name': 'onnx'},\n",
       "    'name': '',\n",
       "    'runtime': 'triton-2.x',\n",
       "    'storage': {'key': 'aws-connection-tsfmcos',\n",
       "     'path': 'onnx_models/multi_region_model_trust_model.onnx'}}}}}"
      ]
     },
     "execution_count": 51,
     "metadata": {},
     "output_type": "execute_result"
    }
   ],
   "source": [
    "from kubernetes import client\n",
    "\n",
    "from kserve import KServeClient\n",
    "from kserve import constants\n",
    "from kserve import V1beta1PredictorSpec, V1beta1Batcher\n",
    "from kserve import V1beta1ModelSpec, V1beta1ModelFormat\n",
    "from kserve import V1beta1StorageSpec\n",
    "from kserve import V1beta1InferenceServiceSpec\n",
    "from kserve import V1beta1InferenceService\n",
    "\n",
    "service_name = \"trust-single-region-cos-model-4\"\n",
    "project_name = \"model-trust-ds-project\"\n",
    "s3_resource_name = \"aws-connection-tsfmcos\"\n",
    "\n",
    "default_model_spec = V1beta1InferenceServiceSpec(predictor=V1beta1PredictorSpec(model=V1beta1ModelSpec(model_format=V1beta1ModelFormat(name=\"onnx\"), \n",
    "                                                                                                       runtime=\"triton-2.x\", \n",
    "                                                                                                      storage=V1beta1StorageSpec(key=s3_resource_name, path=model_trust_wrapped_model_path)),\n",
    "                                                                               batcher=V1beta1Batcher(max_batch_size=10)))\n",
    "\n",
    "isvc = V1beta1InferenceService(api_version=constants.KSERVE_V1BETA1,\n",
    "                          kind=constants.KSERVE_KIND,\n",
    "                          metadata=client.V1ObjectMeta(name=service_name, \n",
    "                                                       namespace=project_name, \n",
    "                                                       annotations={\"serving.kserve.io/deploymentMode\": \"ModelMesh\"}),\n",
    "                          spec=default_model_spec)\n",
    "\n",
    "\n",
    "kserve_client = KServeClient(config_file='./config')\n",
    "\n",
    "# create inference service\n",
    "kserve_client.create(isvc)\n",
    "# isvc"
   ]
  },
  {
   "cell_type": "code",
   "execution_count": 52,
   "id": "0651ba15-7e4c-4f54-9421-7b34f5d0bab0",
   "metadata": {
    "tags": []
   },
   "outputs": [
    {
     "data": {
      "text/plain": [
       "True"
      ]
     },
     "execution_count": 52,
     "metadata": {},
     "output_type": "execute_result"
    }
   ],
   "source": [
    "if not kserve_client.is_isvc_ready(service_name, namespace=project_name):\n",
    "    kserve_client.wait_isvc_ready(name=service_name, namespace=project_name, timeout_seconds=5)\n",
    "\n",
    "kserve_client.is_isvc_ready(service_name, namespace=project_name)"
   ]
  },
  {
   "cell_type": "code",
   "execution_count": 53,
   "id": "9d03e5e4-b0a6-4017-a426-57df6ee17ad8",
   "metadata": {
    "tags": []
   },
   "outputs": [],
   "source": [
    "import openshift as oc\n",
    "\n",
    "oc.set_default_kubeconfig_path(\"./config\")"
   ]
  },
  {
   "cell_type": "code",
   "execution_count": 54,
   "id": "2ac33c61-a742-461d-8662-85c277d8c907",
   "metadata": {
    "tags": []
   },
   "outputs": [],
   "source": [
    "service_route = oc.selector(\"route.route.openshift.io/{}\".format(service_name)).object(ignore_not_found=True)\n",
    "if not service_route:\n",
    "    print(\"Route is not created for the model. Deployment might have failed. Please check the deployment configuration again...\")\n",
    "    "
   ]
  },
  {
   "cell_type": "code",
   "execution_count": 55,
   "id": "267a7f6c-d15b-4b2c-9415-38bc57c5bc4e",
   "metadata": {
    "tags": []
   },
   "outputs": [
    {
     "data": {
      "text/plain": [
       "'https://trust-single-region-cos-model-4-model-trust-ds-project.apps.odhnewcluster1.cp.fyre.ibm.com/v2/models/trust-single-region-cos-model-4/infer'"
      ]
     },
     "execution_count": 55,
     "metadata": {},
     "output_type": "execute_result"
    }
   ],
   "source": [
    "service_route_dict = service_route.as_dict()\n",
    "model_inference_path = \"https://\" + service_route_dict[\"spec\"][\"host\"] + service_route_dict[\"spec\"][\"path\"] + \"/infer\"\n",
    "model_inference_path"
   ]
  },
  {
   "cell_type": "markdown",
   "id": "49832454-45e8-481d-b18d-47f713864986",
   "metadata": {},
   "source": [
    "Test single instance"
   ]
  },
  {
   "cell_type": "code",
   "execution_count": 56,
   "id": "8d570be7-652d-480b-87ef-332873bd93de",
   "metadata": {
    "tags": []
   },
   "outputs": [],
   "source": [
    "from model_trust.base.utils.data_utils import nparray_to_list\n",
    "\n",
    "test_data = x_test[0:1]\n",
    "\n",
    "req_data = {\"inputs\": [{\n",
    "  \"name\" : \"X\",\n",
    "  \"shape\" : list(test_data.shape),\n",
    "  \"datatype\"  : \"FP32\",\n",
    "  \"data\" : nparray_to_list(test_data)\n",
    "    }]\n",
    "}\n"
   ]
  },
  {
   "cell_type": "code",
   "execution_count": 57,
   "id": "fe71ef97-53ad-48f6-88f2-ad1af2a41d99",
   "metadata": {
    "tags": []
   },
   "outputs": [
    {
     "data": {
      "text/plain": [
       "{'model_name': 'trust-single-region-cos-model-4__isvc-a89b7cb37f',\n",
       " 'model_version': '1',\n",
       " 'outputs': [{'name': 'exp_lower_pred_endpoint',\n",
       "   'datatype': 'FP32',\n",
       "   'shape': [1, 1],\n",
       "   'data': [-4.580826]},\n",
       "  {'name': 'exp_upper_pred_endpoint',\n",
       "   'datatype': 'FP32',\n",
       "   'shape': [1, 1],\n",
       "   'data': [9.422473]},\n",
       "  {'name': 'input_x',\n",
       "   'datatype': 'FP32',\n",
       "   'shape': [1, 1],\n",
       "   'data': [0.23750836]},\n",
       "  {'name': 'prediction',\n",
       "   'datatype': 'FP32',\n",
       "   'shape': [1, 1],\n",
       "   'data': [2.4208233]},\n",
       "  {'name': 'region_model_prediction',\n",
       "   'datatype': 'FP32',\n",
       "   'shape': [1, 1],\n",
       "   'data': [6.5734396]}]}"
      ]
     },
     "execution_count": 57,
     "metadata": {},
     "output_type": "execute_result"
    }
   ],
   "source": [
    "import requests\n",
    "\n",
    "requests.post(model_inference_path, json=req_data, verify=False).json()"
   ]
  },
  {
   "cell_type": "markdown",
   "id": "9543d8f4-5462-4274-81ec-bcd403aca4ac",
   "metadata": {},
   "source": [
    "Test multiple instances"
   ]
  },
  {
   "cell_type": "code",
   "execution_count": 72,
   "id": "32ddaf58-3dc0-4a9d-b440-aee45c811848",
   "metadata": {
    "tags": []
   },
   "outputs": [],
   "source": [
    "from model_trust.base.utils.data_utils import nparray_to_list\n",
    "\n",
    "test_data = x_test[0:4]\n",
    "\n",
    "req_data = {\"inputs\": [{\n",
    "  \"name\" : \"X\",\n",
    "  \"shape\" : list(test_data.shape),\n",
    "  \"datatype\"  : \"FP32\",\n",
    "  \"data\" : nparray_to_list(test_data)\n",
    "    }]\n",
    "}\n"
   ]
  },
  {
   "cell_type": "code",
   "execution_count": 73,
   "id": "8e3170be-0aa2-4c68-9277-309583b4775c",
   "metadata": {
    "tags": []
   },
   "outputs": [
    {
     "data": {
      "text/plain": [
       "{'model_name': 'trust-single-region-cos-model-4__isvc-a89b7cb37f',\n",
       " 'model_version': '1',\n",
       " 'outputs': [{'name': 'exp_lower_pred_endpoint',\n",
       "   'datatype': 'FP32',\n",
       "   'shape': [4, 1],\n",
       "   'data': [-4.580826, -6.0722737, -4.2611713, -2.8696885]},\n",
       "  {'name': 'exp_upper_pred_endpoint',\n",
       "   'datatype': 'FP32',\n",
       "   'shape': [4, 1],\n",
       "   'data': [9.422473, -2.5951686, 9.742127, 0.6074163]},\n",
       "  {'name': 'input_x',\n",
       "   'datatype': 'FP32',\n",
       "   'shape': [4, 1],\n",
       "   'data': [0.23750836, -0.4326494, 0.26922315, -0.11490227]},\n",
       "  {'name': 'prediction',\n",
       "   'datatype': 'FP32',\n",
       "   'shape': [4, 1],\n",
       "   'data': [2.4208233, -4.333721, 2.740478, -1.1311362]},\n",
       "  {'name': 'region_model_prediction',\n",
       "   'datatype': 'FP32',\n",
       "   'shape': [4, 1],\n",
       "   'data': [6.5734396, 1.7398951, 6.5734396, 1.7398951]}]}"
      ]
     },
     "execution_count": 73,
     "metadata": {},
     "output_type": "execute_result"
    }
   ],
   "source": [
    "import requests\n",
    "\n",
    "requests.post(model_inference_path, json=req_data, verify=False).json()"
   ]
  },
  {
   "cell_type": "markdown",
   "id": "a5fd7215-ecba-42ea-9dc8-89bb8dfb9b33",
   "metadata": {},
   "source": [
    "### Delete Model Deployment From Model Mesh"
   ]
  },
  {
   "cell_type": "code",
   "execution_count": 74,
   "id": "628bacbc-34f6-4f54-8bd0-4e251a88058c",
   "metadata": {
    "tags": []
   },
   "outputs": [
    {
     "data": {
      "text/plain": [
       "{'kind': 'Status',\n",
       " 'apiVersion': 'v1',\n",
       " 'metadata': {},\n",
       " 'status': 'Success',\n",
       " 'details': {'name': 'trust-single-region-cos-model-4',\n",
       "  'group': 'serving.kserve.io',\n",
       "  'kind': 'inferenceservices',\n",
       "  'uid': '45dea48d-1af8-4db2-9a95-23f2f0daa745'}}"
      ]
     },
     "execution_count": 74,
     "metadata": {},
     "output_type": "execute_result"
    }
   ],
   "source": [
    "kserve_client.delete(service_name, namespace=project_name)"
   ]
  },
  {
   "cell_type": "code",
   "execution_count": 75,
   "id": "473afa0c-da5d-46c0-ad55-aa16f6a97770",
   "metadata": {
    "tags": []
   },
   "outputs": [
    {
     "name": "stdout",
     "output_type": "stream",
     "text": [
      "Model deployment trust-single-region-cos-model-4 does not exist\n"
     ]
    }
   ],
   "source": [
    "try:\n",
    "    kserve_client.get(service_name, namespace=project_name)\n",
    "except:\n",
    "    print(\"Model deployment {} does not exist\".format(service_name))"
   ]
  },
  {
   "cell_type": "code",
   "execution_count": null,
   "id": "152a28e0-1a7e-4532-b1a8-7da8d031d5ab",
   "metadata": {},
   "outputs": [],
   "source": []
  }
 ],
 "metadata": {
  "kernelspec": {
   "display_name": "Python 3.9",
   "language": "python",
   "name": "python3"
  },
  "language_info": {
   "codemirror_mode": {
    "name": "ipython",
    "version": 3
   },
   "file_extension": ".py",
   "mimetype": "text/x-python",
   "name": "python",
   "nbconvert_exporter": "python",
   "pygments_lexer": "ipython3",
   "version": "3.9.16"
  }
 },
 "nbformat": 4,
 "nbformat_minor": 5
}
